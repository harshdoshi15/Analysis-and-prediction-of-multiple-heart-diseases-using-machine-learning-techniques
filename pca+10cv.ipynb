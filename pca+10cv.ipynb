{
 "cells": [
  {
   "cell_type": "code",
   "execution_count": 119,
   "metadata": {},
   "outputs": [
    {
     "data": {
      "text/html": [
       "<div>\n",
       "<style scoped>\n",
       "    .dataframe tbody tr th:only-of-type {\n",
       "        vertical-align: middle;\n",
       "    }\n",
       "\n",
       "    .dataframe tbody tr th {\n",
       "        vertical-align: top;\n",
       "    }\n",
       "\n",
       "    .dataframe thead th {\n",
       "        text-align: right;\n",
       "    }\n",
       "</style>\n",
       "<table border=\"1\" class=\"dataframe\">\n",
       "  <thead>\n",
       "    <tr style=\"text-align: right;\">\n",
       "      <th></th>\n",
       "      <th>age</th>\n",
       "      <th>sex</th>\n",
       "      <th>cp</th>\n",
       "      <th>trestbps</th>\n",
       "      <th>chol</th>\n",
       "      <th>fbs</th>\n",
       "      <th>restecg</th>\n",
       "      <th>thalach</th>\n",
       "      <th>exang</th>\n",
       "      <th>oldpeak</th>\n",
       "      <th>slope</th>\n",
       "      <th>ca</th>\n",
       "      <th>thal</th>\n",
       "      <th>target</th>\n",
       "    </tr>\n",
       "  </thead>\n",
       "  <tbody>\n",
       "    <tr>\n",
       "      <th>0</th>\n",
       "      <td>69</td>\n",
       "      <td>1</td>\n",
       "      <td>0</td>\n",
       "      <td>160</td>\n",
       "      <td>234</td>\n",
       "      <td>1</td>\n",
       "      <td>2</td>\n",
       "      <td>131</td>\n",
       "      <td>0</td>\n",
       "      <td>0.1</td>\n",
       "      <td>1</td>\n",
       "      <td>1</td>\n",
       "      <td>0</td>\n",
       "      <td>0</td>\n",
       "    </tr>\n",
       "    <tr>\n",
       "      <th>1</th>\n",
       "      <td>69</td>\n",
       "      <td>0</td>\n",
       "      <td>0</td>\n",
       "      <td>140</td>\n",
       "      <td>239</td>\n",
       "      <td>0</td>\n",
       "      <td>0</td>\n",
       "      <td>151</td>\n",
       "      <td>0</td>\n",
       "      <td>1.8</td>\n",
       "      <td>0</td>\n",
       "      <td>2</td>\n",
       "      <td>0</td>\n",
       "      <td>0</td>\n",
       "    </tr>\n",
       "    <tr>\n",
       "      <th>2</th>\n",
       "      <td>66</td>\n",
       "      <td>0</td>\n",
       "      <td>0</td>\n",
       "      <td>150</td>\n",
       "      <td>226</td>\n",
       "      <td>0</td>\n",
       "      <td>0</td>\n",
       "      <td>114</td>\n",
       "      <td>0</td>\n",
       "      <td>2.6</td>\n",
       "      <td>2</td>\n",
       "      <td>0</td>\n",
       "      <td>0</td>\n",
       "      <td>0</td>\n",
       "    </tr>\n",
       "    <tr>\n",
       "      <th>3</th>\n",
       "      <td>65</td>\n",
       "      <td>1</td>\n",
       "      <td>0</td>\n",
       "      <td>138</td>\n",
       "      <td>282</td>\n",
       "      <td>1</td>\n",
       "      <td>2</td>\n",
       "      <td>174</td>\n",
       "      <td>0</td>\n",
       "      <td>1.4</td>\n",
       "      <td>1</td>\n",
       "      <td>1</td>\n",
       "      <td>0</td>\n",
       "      <td>1</td>\n",
       "    </tr>\n",
       "    <tr>\n",
       "      <th>4</th>\n",
       "      <td>64</td>\n",
       "      <td>1</td>\n",
       "      <td>0</td>\n",
       "      <td>110</td>\n",
       "      <td>211</td>\n",
       "      <td>0</td>\n",
       "      <td>2</td>\n",
       "      <td>144</td>\n",
       "      <td>1</td>\n",
       "      <td>1.8</td>\n",
       "      <td>1</td>\n",
       "      <td>0</td>\n",
       "      <td>0</td>\n",
       "      <td>0</td>\n",
       "    </tr>\n",
       "  </tbody>\n",
       "</table>\n",
       "</div>"
      ],
      "text/plain": [
       "   age  sex  cp  trestbps  chol  fbs  restecg  thalach  exang  oldpeak  slope  \\\n",
       "0   69    1   0       160   234    1        2      131      0      0.1      1   \n",
       "1   69    0   0       140   239    0        0      151      0      1.8      0   \n",
       "2   66    0   0       150   226    0        0      114      0      2.6      2   \n",
       "3   65    1   0       138   282    1        2      174      0      1.4      1   \n",
       "4   64    1   0       110   211    0        2      144      1      1.8      1   \n",
       "\n",
       "   ca  thal  target  \n",
       "0   1     0       0  \n",
       "1   2     0       0  \n",
       "2   0     0       0  \n",
       "3   1     0       1  \n",
       "4   0     0       0  "
      ]
     },
     "execution_count": 119,
     "metadata": {},
     "output_type": "execute_result"
    }
   ],
   "source": [
    "#https://github.com/ankitom/DSG/blob/master/Pipeline_DimRed_CV.ipynb\n",
    "import numpy as np\n",
    "import pandas as pd\n",
    "import matplotlib.pyplot as plt\n",
    "from sklearn.tree import DecisionTreeClassifier\n",
    "from sklearn.naive_bayes import GaussianNB\n",
    "from sklearn.svm import SVC\n",
    "from sklearn.ensemble import RandomForestClassifier\n",
    "from sklearn.neighbors import KNeighborsClassifier\n",
    "import seaborn as sns\n",
    "from matplotlib import rcParams\n",
    "from matplotlib.cm import rainbow\n",
    "%matplotlib inline\n",
    "import warnings\n",
    "warnings.filterwarnings('ignore')\n",
    "from sklearn.preprocessing import StandardScaler\n",
    "from sklearn.decomposition import PCA\n",
    "from sklearn.linear_model import LogisticRegression\n",
    "from sklearn.pipeline import Pipeline\n",
    "from sklearn.svm import SVC\n",
    "from sklearn.model_selection import train_test_split\n",
    "import numpy as np\n",
    "from sklearn.model_selection import StratifiedKFold, cross_val_score\n",
    "from sklearn.preprocessing import LabelEncoder\n",
    "########################### coronary ##################\n",
    "from sklearn.model_selection import train_test_split\n",
    "df = pd.read_csv(r\"c:\\Users\\Dell\\Desktop\\h\\minor\\coronary.csv\")\n",
    "\n",
    "# First 5 rows of our data\n",
    "df.head()\n"
   ]
  },
  {
   "cell_type": "code",
   "execution_count": 120,
   "metadata": {},
   "outputs": [
    {
     "data": {
      "text/plain": [
       "array([0, 1], dtype=int64)"
      ]
     },
     "execution_count": 120,
     "metadata": {},
     "output_type": "execute_result"
    }
   ],
   "source": [
    "\n",
    "# Preparing Data for the pipeline\n",
    "x = df.iloc[:, :-1].values\n",
    "y = df.iloc[:, -1].values\n",
    "le = LabelEncoder()\n",
    "y = le.fit_transform(y)\n",
    "\n",
    "# Label encoder has assigned 0 to Benign and 1 to Malignant class type\n",
    "le.classes_"
   ]
  },
  {
   "cell_type": "code",
   "execution_count": 121,
   "metadata": {},
   "outputs": [
    {
     "name": "stdout",
     "output_type": "stream",
     "text": [
      "Test Accuracy: 0.878\n",
      "Logistic Regression Mean score: 0.8666666666666668\n"
     ]
    }
   ],
   "source": [
    "# Splitting data into training and testing sets\n",
    "X_train, X_test, y_train, y_test = train_test_split(x, y, test_size = 0.3, random_state = 5)\n",
    "\n",
    "# Logistic Regression Pipeline\n",
    "\n",
    "lr_pipe = Pipeline([('scl', StandardScaler()),\n",
    "                    ('pca', PCA(n_components=10)),\n",
    "                    ('clf',LogisticRegression())])\n",
    "\n",
    "lr_pipe.fit(X_train, y_train)\n",
    "\n",
    "print('Test Accuracy: %.3f' % lr_pipe.score(X_test, y_test))\n",
    "\n",
    "# Performing K fold Cross Validation to get an estimate of model performance on unknown data.\n",
    "print('Logistic Regression Mean score: {}'.format(cross_val_score(estimator=lr_pipe, \n",
    "                                                                  X=X_test, y= y_test,\n",
    "                                                                  cv=10, n_jobs = -1).mean()))"
   ]
  },
  {
   "cell_type": "code",
   "execution_count": 122,
   "metadata": {},
   "outputs": [
    {
     "name": "stdout",
     "output_type": "stream",
     "text": [
      "Test Accuracy: 0.856\n",
      "Naive Bayes Mean score: 0.8555555555555554\n"
     ]
    }
   ],
   "source": [
    "# Splitting data into training and testing sets\n",
    "X_train, X_test, y_train, y_test = train_test_split(x, y, test_size = 0.3, random_state = 2)\n",
    "\n",
    "# Logistic Regression Pipeline\n",
    "\n",
    "nb_pipe = Pipeline([('scl', StandardScaler()),\n",
    "                    ('pca', PCA(n_components=10)),\n",
    "                    ('clf',GaussianNB())])\n",
    "\n",
    "nb_pipe.fit(X_train, y_train)\n",
    "\n",
    "print('Test Accuracy: %.3f' % nb_pipe.score(X_test, y_test))\n",
    "\n",
    "# Performing K fold Cross Validation to get an estimate of model performance on unknown data.\n",
    "print('Naive Bayes Mean score: {}'.format(cross_val_score(estimator=nb_pipe, \n",
    "                                                                  X=X_test, y= y_test,\n",
    "                                                                  cv=10, n_jobs = -1).mean()))"
   ]
  },
  {
   "cell_type": "code",
   "execution_count": 123,
   "metadata": {},
   "outputs": [
    {
     "name": "stdout",
     "output_type": "stream",
     "text": [
      "Test Accuracy: 0.689\n",
      "Decision tree Mean score: 0.8222222222222222\n"
     ]
    }
   ],
   "source": [
    "# Splitting data into training and testing sets\n",
    "X_train, X_test, y_train, y_test = train_test_split(x, y, test_size = 0.3, random_state = 2)\n",
    "\n",
    "# Logistic Regression Pipeline\n",
    "\n",
    "dt_pipe = Pipeline([('scl', StandardScaler()),\n",
    "                    ('pca', PCA(n_components=10)),\n",
    "                    ('clf',DecisionTreeClassifier())])\n",
    "\n",
    "dt_pipe.fit(X_train, y_train)\n",
    "\n",
    "print('Test Accuracy: %.3f' % dt_pipe.score(X_test, y_test))\n",
    "\n",
    "# Performing K fold Cross Validation to get an estimate of model performance on unknown data.\n",
    "print('Decision tree Mean score: {}'.format(cross_val_score(estimator=dt_pipe, \n",
    "                                                                  X=X_test, y= y_test,\n",
    "                                                                  cv=10, n_jobs = -1).mean()))"
   ]
  },
  {
   "cell_type": "code",
   "execution_count": 124,
   "metadata": {},
   "outputs": [
    {
     "name": "stdout",
     "output_type": "stream",
     "text": [
      "Test Accuracy: 0.811\n",
      "SVM Mean score: 0.9111111111111111\n"
     ]
    }
   ],
   "source": [
    "# Splitting data into training and testing sets\n",
    "X_train, X_test, y_train, y_test = train_test_split(x, y, test_size = 0.3, random_state = 2)\n",
    "\n",
    "# Logistic Regression Pipeline\n",
    "\n",
    "svm_pipe = Pipeline([('scl', StandardScaler()),\n",
    "                    ('pca', PCA(n_components=10)),\n",
    "                    ('clf',SVC(kernel = 'rbf'))])\n",
    "\n",
    "svm_pipe.fit(X_train, y_train)\n",
    "\n",
    "print('Test Accuracy: %.3f' % svm_pipe.score(X_test, y_test))\n",
    "\n",
    "# Performing K fold Cross Validation to get an estimate of model performance on unknown data.\n",
    "print('SVM Mean score: {}'.format(cross_val_score(estimator=svm_pipe, \n",
    "                                                                  X=X_test, y= y_test,\n",
    "                                                                  cv=10, n_jobs = -1).mean()))"
   ]
  },
  {
   "cell_type": "code",
   "execution_count": 125,
   "metadata": {},
   "outputs": [
    {
     "name": "stdout",
     "output_type": "stream",
     "text": [
      "Test Accuracy: 0.778\n",
      "KNN score: 0.8777777777777777\n"
     ]
    }
   ],
   "source": [
    "# Splitting data into training and testing sets\n",
    "X_train, X_test, y_train, y_test = train_test_split(x, y, test_size = 0.3, random_state = 2)\n",
    "\n",
    "# Logistic Regression Pipeline\n",
    "\n",
    "knn_pipe = Pipeline([('scl', StandardScaler()),\n",
    "                    ('pca', PCA(n_components=10)),\n",
    "                    ('clf',KNeighborsClassifier(n_neighbors=5))])\n",
    "\n",
    "knn_pipe.fit(X_train, y_train)\n",
    "\n",
    "print('Test Accuracy: %.3f' % knn_pipe.score(X_test, y_test))\n",
    "\n",
    "# Performing K fold Cross Validation to get an estimate of model performance on unknown data.\n",
    "print('KNN score: {}'.format(cross_val_score(estimator=knn_pipe, \n",
    "                                                                  X=X_test, y= y_test,\n",
    "                                                                  cv=10, n_jobs = -1).mean()))"
   ]
  },
  {
   "cell_type": "code",
   "execution_count": 126,
   "metadata": {},
   "outputs": [
    {
     "name": "stdout",
     "output_type": "stream",
     "text": [
      "Test Accuracy: 0.778\n",
      "Random Forest score: 0.8555555555555555\n"
     ]
    }
   ],
   "source": [
    "# Splitting data into training and testing sets\n",
    "X_train, X_test, y_train, y_test = train_test_split(x, y, test_size = 0.3, random_state = 2)\n",
    "\n",
    "# Logistic Regression Pipeline\n",
    "\n",
    "rf_pipe = Pipeline([('scl', StandardScaler()),\n",
    "                    ('pca', PCA(n_components=10)),\n",
    "                    ('clf',RandomForestClassifier(n_estimators = 10))])\n",
    "\n",
    "rf_pipe.fit(X_train, y_train)\n",
    "\n",
    "print('Test Accuracy: %.3f' % rf_pipe.score(X_test, y_test))\n",
    "\n",
    "# Performing K fold Cross Validation to get an estimate of model performance on unknown data.\n",
    "print('Random Forest score: {}'.format(cross_val_score(estimator=rf_pipe, \n",
    "                                                                  X=X_test, y= y_test,\n",
    "                                                                  cv=10, n_jobs = -1).mean()))"
   ]
  },
  {
   "cell_type": "code",
   "execution_count": 127,
   "metadata": {},
   "outputs": [
    {
     "data": {
      "text/html": [
       "<div>\n",
       "<style scoped>\n",
       "    .dataframe tbody tr th:only-of-type {\n",
       "        vertical-align: middle;\n",
       "    }\n",
       "\n",
       "    .dataframe tbody tr th {\n",
       "        vertical-align: top;\n",
       "    }\n",
       "\n",
       "    .dataframe thead th {\n",
       "        text-align: right;\n",
       "    }\n",
       "</style>\n",
       "<table border=\"1\" class=\"dataframe\">\n",
       "  <thead>\n",
       "    <tr style=\"text-align: right;\">\n",
       "      <th></th>\n",
       "      <th>age</th>\n",
       "      <th>anaemia</th>\n",
       "      <th>creatinine_phosphokinase</th>\n",
       "      <th>diabetes</th>\n",
       "      <th>ejection_fraction</th>\n",
       "      <th>high_blood_pressure</th>\n",
       "      <th>platelets</th>\n",
       "      <th>serum_creatinine</th>\n",
       "      <th>serum_sodium</th>\n",
       "      <th>sex</th>\n",
       "      <th>smoking</th>\n",
       "      <th>time</th>\n",
       "      <th>DEATH_EVENT</th>\n",
       "    </tr>\n",
       "  </thead>\n",
       "  <tbody>\n",
       "    <tr>\n",
       "      <th>0</th>\n",
       "      <td>75.0</td>\n",
       "      <td>0</td>\n",
       "      <td>582</td>\n",
       "      <td>0</td>\n",
       "      <td>20</td>\n",
       "      <td>1</td>\n",
       "      <td>265000.00</td>\n",
       "      <td>1.9</td>\n",
       "      <td>130</td>\n",
       "      <td>1</td>\n",
       "      <td>0</td>\n",
       "      <td>4</td>\n",
       "      <td>1</td>\n",
       "    </tr>\n",
       "    <tr>\n",
       "      <th>1</th>\n",
       "      <td>55.0</td>\n",
       "      <td>0</td>\n",
       "      <td>7861</td>\n",
       "      <td>0</td>\n",
       "      <td>38</td>\n",
       "      <td>0</td>\n",
       "      <td>263358.03</td>\n",
       "      <td>1.1</td>\n",
       "      <td>136</td>\n",
       "      <td>1</td>\n",
       "      <td>0</td>\n",
       "      <td>6</td>\n",
       "      <td>1</td>\n",
       "    </tr>\n",
       "    <tr>\n",
       "      <th>2</th>\n",
       "      <td>65.0</td>\n",
       "      <td>0</td>\n",
       "      <td>146</td>\n",
       "      <td>0</td>\n",
       "      <td>20</td>\n",
       "      <td>0</td>\n",
       "      <td>162000.00</td>\n",
       "      <td>1.3</td>\n",
       "      <td>129</td>\n",
       "      <td>1</td>\n",
       "      <td>1</td>\n",
       "      <td>7</td>\n",
       "      <td>1</td>\n",
       "    </tr>\n",
       "    <tr>\n",
       "      <th>3</th>\n",
       "      <td>50.0</td>\n",
       "      <td>1</td>\n",
       "      <td>111</td>\n",
       "      <td>0</td>\n",
       "      <td>20</td>\n",
       "      <td>0</td>\n",
       "      <td>210000.00</td>\n",
       "      <td>1.9</td>\n",
       "      <td>137</td>\n",
       "      <td>1</td>\n",
       "      <td>0</td>\n",
       "      <td>7</td>\n",
       "      <td>1</td>\n",
       "    </tr>\n",
       "    <tr>\n",
       "      <th>4</th>\n",
       "      <td>65.0</td>\n",
       "      <td>1</td>\n",
       "      <td>160</td>\n",
       "      <td>1</td>\n",
       "      <td>20</td>\n",
       "      <td>0</td>\n",
       "      <td>327000.00</td>\n",
       "      <td>2.7</td>\n",
       "      <td>116</td>\n",
       "      <td>0</td>\n",
       "      <td>0</td>\n",
       "      <td>8</td>\n",
       "      <td>1</td>\n",
       "    </tr>\n",
       "  </tbody>\n",
       "</table>\n",
       "</div>"
      ],
      "text/plain": [
       "    age  anaemia  creatinine_phosphokinase  diabetes  ejection_fraction  \\\n",
       "0  75.0        0                       582         0                 20   \n",
       "1  55.0        0                      7861         0                 38   \n",
       "2  65.0        0                       146         0                 20   \n",
       "3  50.0        1                       111         0                 20   \n",
       "4  65.0        1                       160         1                 20   \n",
       "\n",
       "   high_blood_pressure  platelets  serum_creatinine  serum_sodium  sex  \\\n",
       "0                    1  265000.00               1.9           130    1   \n",
       "1                    0  263358.03               1.1           136    1   \n",
       "2                    0  162000.00               1.3           129    1   \n",
       "3                    0  210000.00               1.9           137    1   \n",
       "4                    0  327000.00               2.7           116    0   \n",
       "\n",
       "   smoking  time  DEATH_EVENT  \n",
       "0        0     4            1  \n",
       "1        0     6            1  \n",
       "2        1     7            1  \n",
       "3        0     7            1  \n",
       "4        0     8            1  "
      ]
     },
     "execution_count": 127,
     "metadata": {},
     "output_type": "execute_result"
    }
   ],
   "source": [
    "########################### failure ##################\n",
    "from sklearn.model_selection import train_test_split\n",
    "df = pd.read_csv(r\"c:\\Users\\Dell\\Desktop\\h\\minor\\heart_failure.csv\")\n",
    "\n",
    "# First 5 rows of our data\n",
    "df.head()\n"
   ]
  },
  {
   "cell_type": "code",
   "execution_count": 128,
   "metadata": {},
   "outputs": [
    {
     "data": {
      "text/plain": [
       "array([0, 1], dtype=int64)"
      ]
     },
     "execution_count": 128,
     "metadata": {},
     "output_type": "execute_result"
    }
   ],
   "source": [
    "\n",
    "# Preparing Data for the pipeline\n",
    "x = df.iloc[:, :-1].values\n",
    "y = df.iloc[:, -1].values\n",
    "le = LabelEncoder()\n",
    "y = le.fit_transform(y)\n",
    "\n",
    "# Label encoder has assigned 0 to Benign and 1 to Malignant class type\n",
    "le.classes_"
   ]
  },
  {
   "cell_type": "code",
   "execution_count": 129,
   "metadata": {},
   "outputs": [
    {
     "name": "stdout",
     "output_type": "stream",
     "text": [
      "Test Accuracy: 0.833\n",
      "Logistic Regression Mean score: 0.8444444444444444\n"
     ]
    }
   ],
   "source": [
    "# Splitting data into training and testing sets\n",
    "X_train, X_test, y_train, y_test = train_test_split(x, y, test_size = 0.3, random_state = 2)\n",
    "\n",
    "# Logistic Regression Pipeline\n",
    "\n",
    "lr_pipe = Pipeline([('scl', StandardScaler()),\n",
    "                    ('pca', PCA(n_components=10)),\n",
    "                    ('clf',LogisticRegression(random_state=1))])\n",
    "\n",
    "lr_pipe.fit(X_train, y_train)\n",
    "\n",
    "print('Test Accuracy: %.3f' % lr_pipe.score(X_test, y_test))\n",
    "\n",
    "# Performing K fold Cross Validation to get an estimate of model performance on unknown data.\n",
    "print('Logistic Regression Mean score: {}'.format(cross_val_score(estimator=lr_pipe, \n",
    "                                                                  X=X_test, y= y_test,\n",
    "                                                                  cv=10, n_jobs = -1).mean()))"
   ]
  },
  {
   "cell_type": "code",
   "execution_count": 130,
   "metadata": {},
   "outputs": [
    {
     "name": "stdout",
     "output_type": "stream",
     "text": [
      "Test Accuracy: 0.800\n",
      "Naive Bayes Mean score: 0.7999999999999999\n"
     ]
    }
   ],
   "source": [
    "# Splitting data into training and testing sets\n",
    "X_train, X_test, y_train, y_test = train_test_split(x, y, test_size = 0.3, random_state = 2)\n",
    "\n",
    "# Logistic Regression Pipeline\n",
    "\n",
    "nb_pipe = Pipeline([('scl', StandardScaler()),\n",
    "                    ('pca', PCA(n_components=10)),\n",
    "                    ('clf',GaussianNB())])\n",
    "\n",
    "nb_pipe.fit(X_train, y_train)\n",
    "\n",
    "print('Test Accuracy: %.3f' % nb_pipe.score(X_test, y_test))\n",
    "\n",
    "# Performing K fold Cross Validation to get an estimate of model performance on unknown data.\n",
    "print('Naive Bayes Mean score: {}'.format(cross_val_score(estimator=nb_pipe, \n",
    "                                                                  X=X_test, y= y_test,\n",
    "                                                                  cv=10, n_jobs = -1).mean()))"
   ]
  },
  {
   "cell_type": "code",
   "execution_count": 131,
   "metadata": {},
   "outputs": [
    {
     "name": "stdout",
     "output_type": "stream",
     "text": [
      "Test Accuracy: 0.778\n",
      "Decision tree Mean score: 0.8333333333333333\n"
     ]
    }
   ],
   "source": [
    "# Splitting data into training and testing sets\n",
    "X_train, X_test, y_train, y_test = train_test_split(x, y, test_size = 0.3, random_state = 2)\n",
    "\n",
    "# Logistic Regression Pipeline\n",
    "\n",
    "dt_pipe = Pipeline([('scl', StandardScaler()),\n",
    "                    ('pca', PCA(n_components=10)),\n",
    "                    ('clf',DecisionTreeClassifier())])\n",
    "\n",
    "dt_pipe.fit(X_train, y_train)\n",
    "\n",
    "print('Test Accuracy: %.3f' % dt_pipe.score(X_test, y_test))\n",
    "\n",
    "# Performing K fold Cross Validation to get an estimate of model performance on unknown data.\n",
    "print('Decision tree Mean score: {}'.format(cross_val_score(estimator=dt_pipe, \n",
    "                                                                  X=X_test, y= y_test,\n",
    "                                                                  cv=10, n_jobs = -1).mean()))"
   ]
  },
  {
   "cell_type": "code",
   "execution_count": 132,
   "metadata": {},
   "outputs": [
    {
     "name": "stdout",
     "output_type": "stream",
     "text": [
      "Test Accuracy: 0.787\n",
      "SVM Mean score: 0.8267857142857142\n"
     ]
    }
   ],
   "source": [
    "# Splitting data into training and testing sets\n",
    "X_train, X_test, y_train, y_test = train_test_split(x, y, test_size = 0.25, random_state = 2)\n",
    "\n",
    "# Logistic Regression Pipeline\n",
    "\n",
    "svm_pipe = Pipeline([('scl', StandardScaler()),\n",
    "                    ('pca', PCA(n_components=10)),\n",
    "                    ('clf',SVC(kernel = 'rbf'))])\n",
    "\n",
    "svm_pipe.fit(X_train, y_train)\n",
    "\n",
    "print('Test Accuracy: %.3f' % svm_pipe.score(X_test, y_test))\n",
    "\n",
    "# Performing K fold Cross Validation to get an estimate of model performance on unknown data.\n",
    "print('SVM Mean score: {}'.format(cross_val_score(estimator=svm_pipe, \n",
    "                                                                  X=X_test, y= y_test,\n",
    "                                                                  cv=10, n_jobs = -1).mean()))"
   ]
  },
  {
   "cell_type": "code",
   "execution_count": 145,
   "metadata": {},
   "outputs": [
    {
     "name": "stdout",
     "output_type": "stream",
     "text": [
      "Test Accuracy: 0.778\n",
      "KNN score: 0.8111111111111111\n"
     ]
    }
   ],
   "source": [
    "# Splitting data into training and testing sets\n",
    "X_train, X_test, y_train, y_test = train_test_split(x, y, test_size = 0.3, random_state = 2)\n",
    "\n",
    "# Logistic Regression Pipeline\n",
    "\n",
    "knn_pipe = Pipeline([('scl', StandardScaler()),\n",
    "                    ('pca', PCA(n_components=10)),\n",
    "                    ('clf',KNeighborsClassifier(n_neighbors=9))])\n",
    "\n",
    "knn_pipe.fit(X_train, y_train)\n",
    "\n",
    "print('Test Accuracy: %.3f' % knn_pipe.score(X_test, y_test))\n",
    "\n",
    "# Performing K fold Cross Validation to get an estimate of model performance on unknown data.\n",
    "print('KNN score: {}'.format(cross_val_score(estimator=knn_pipe, \n",
    "                                                                  X=X_test, y= y_test,\n",
    "                                                                  cv=10, n_jobs = -1).mean()))"
   ]
  },
  {
   "cell_type": "code",
   "execution_count": 150,
   "metadata": {},
   "outputs": [
    {
     "name": "stdout",
     "output_type": "stream",
     "text": [
      "Test Accuracy: 0.778\n",
      "Random Forest score: 0.8666666666666668\n"
     ]
    }
   ],
   "source": [
    "# Splitting data into training and testing sets\n",
    "X_train, X_test, y_train, y_test = train_test_split(x, y, test_size = 0.3, random_state = 2)\n",
    "\n",
    "# Logistic Regression Pipeline\n",
    "\n",
    "rf_pipe = Pipeline([('scl', StandardScaler()),\n",
    "                    ('pca', PCA(n_components=10)),\n",
    "                    ('clf',RandomForestClassifier(n_estimators = 10))])\n",
    "\n",
    "rf_pipe.fit(X_train, y_train)\n",
    "\n",
    "print('Test Accuracy: %.3f' % rf_pipe.score(X_test, y_test))\n",
    "\n",
    "# Performing K fold Cross Validation to get an estimate of model performance on unknown data.\n",
    "print('Random Forest score: {}'.format(cross_val_score(estimator=rf_pipe, \n",
    "                                                                  X=X_test, y= y_test,\n",
    "                                                                  cv=10, n_jobs = -1).mean()))"
   ]
  },
  {
   "cell_type": "code",
   "execution_count": 161,
   "metadata": {},
   "outputs": [
    {
     "data": {
      "text/html": [
       "<div>\n",
       "<style scoped>\n",
       "    .dataframe tbody tr th:only-of-type {\n",
       "        vertical-align: middle;\n",
       "    }\n",
       "\n",
       "    .dataframe tbody tr th {\n",
       "        vertical-align: top;\n",
       "    }\n",
       "\n",
       "    .dataframe thead th {\n",
       "        text-align: right;\n",
       "    }\n",
       "</style>\n",
       "<table border=\"1\" class=\"dataframe\">\n",
       "  <thead>\n",
       "    <tr style=\"text-align: right;\">\n",
       "      <th></th>\n",
       "      <th>education</th>\n",
       "      <th>age</th>\n",
       "      <th>BMI</th>\n",
       "      <th>heartRate</th>\n",
       "      <th>currentSmoker</th>\n",
       "      <th>target</th>\n",
       "    </tr>\n",
       "  </thead>\n",
       "  <tbody>\n",
       "    <tr>\n",
       "      <th>0</th>\n",
       "      <td>4</td>\n",
       "      <td>33</td>\n",
       "      <td>21.61</td>\n",
       "      <td>75</td>\n",
       "      <td>1</td>\n",
       "      <td>0</td>\n",
       "    </tr>\n",
       "    <tr>\n",
       "      <th>1</th>\n",
       "      <td>2</td>\n",
       "      <td>34</td>\n",
       "      <td>23.88</td>\n",
       "      <td>73</td>\n",
       "      <td>2</td>\n",
       "      <td>0</td>\n",
       "    </tr>\n",
       "    <tr>\n",
       "      <th>2</th>\n",
       "      <td>1</td>\n",
       "      <td>34</td>\n",
       "      <td>21.50</td>\n",
       "      <td>75</td>\n",
       "      <td>1</td>\n",
       "      <td>0</td>\n",
       "    </tr>\n",
       "    <tr>\n",
       "      <th>3</th>\n",
       "      <td>3</td>\n",
       "      <td>34</td>\n",
       "      <td>20.81</td>\n",
       "      <td>78</td>\n",
       "      <td>2</td>\n",
       "      <td>0</td>\n",
       "    </tr>\n",
       "    <tr>\n",
       "      <th>4</th>\n",
       "      <td>3</td>\n",
       "      <td>34</td>\n",
       "      <td>29.04</td>\n",
       "      <td>63</td>\n",
       "      <td>1</td>\n",
       "      <td>0</td>\n",
       "    </tr>\n",
       "  </tbody>\n",
       "</table>\n",
       "</div>"
      ],
      "text/plain": [
       "   education  age    BMI  heartRate  currentSmoker  target\n",
       "0          4   33  21.61         75              1       0\n",
       "1          2   34  23.88         73              2       0\n",
       "2          1   34  21.50         75              1       0\n",
       "3          3   34  20.81         78              2       0\n",
       "4          3   34  29.04         63              1       0"
      ]
     },
     "execution_count": 161,
     "metadata": {},
     "output_type": "execute_result"
    }
   ],
   "source": [
    "########################### hypertension ##################\n",
    "from sklearn.model_selection import train_test_split\n",
    "df = pd.read_csv(r\"c:\\Users\\Dell\\Desktop\\h\\minor\\hypertension.csv\")\n",
    "\n",
    "# First 5 rows of our data\n",
    "df.head()\n"
   ]
  },
  {
   "cell_type": "code",
   "execution_count": 162,
   "metadata": {},
   "outputs": [
    {
     "data": {
      "text/plain": [
       "array([0, 1], dtype=int64)"
      ]
     },
     "execution_count": 162,
     "metadata": {},
     "output_type": "execute_result"
    }
   ],
   "source": [
    "\n",
    "# Preparing Data for the pipeline\n",
    "x = df.iloc[:, :-1].values\n",
    "y = df.iloc[:, -1].values\n",
    "le = LabelEncoder()\n",
    "y = le.fit_transform(y)\n",
    "\n",
    "# Label encoder has assigned 0 to Benign and 1 to Malignant class type\n",
    "le.classes_"
   ]
  },
  {
   "cell_type": "code",
   "execution_count": 167,
   "metadata": {},
   "outputs": [
    {
     "name": "stdout",
     "output_type": "stream",
     "text": [
      "Test Accuracy: 0.723\n",
      "Logistic Regression Mean score: 0.7261290322580646\n"
     ]
    }
   ],
   "source": [
    "# Splitting data into training and testing sets\n",
    "X_train, X_test, y_train, y_test = train_test_split(x, y, test_size = 0.3, random_state = 2)\n",
    "\n",
    "# Logistic Regression Pipeline\n",
    "\n",
    "lr_pipe = Pipeline([('scl', StandardScaler()),\n",
    "                    ('pca', PCA(n_components=5)),\n",
    "                    ('clf',LogisticRegression(random_state=1))])\n",
    "\n",
    "lr_pipe.fit(X_train, y_train)\n",
    "\n",
    "print('Test Accuracy: %.3f' % lr_pipe.score(X_test, y_test))\n",
    "\n",
    "# Performing K fold Cross Validation to get an estimate of model performance on unknown data.\n",
    "print('Logistic Regression Mean score: {}'.format(cross_val_score(estimator=lr_pipe, \n",
    "                                                                  X=X_test, y= y_test,\n",
    "                                                                  cv=10, n_jobs = -1).mean()))"
   ]
  },
  {
   "cell_type": "code",
   "execution_count": 169,
   "metadata": {},
   "outputs": [
    {
     "name": "stdout",
     "output_type": "stream",
     "text": [
      "Test Accuracy: 0.723\n",
      "Naive Bayes Mean score: 0.6994623655913978\n"
     ]
    }
   ],
   "source": [
    "# Splitting data into training and testing sets\n",
    "X_train, X_test, y_train, y_test = train_test_split(x, y, test_size = 0.3, random_state = 2)\n",
    "\n",
    "# Logistic Regression Pipeline\n",
    "\n",
    "nb_pipe = Pipeline([('scl', StandardScaler()),\n",
    "                    ('pca', PCA(n_components=5)),\n",
    "                    ('clf',GaussianNB())])\n",
    "\n",
    "nb_pipe.fit(X_train, y_train)\n",
    "\n",
    "print('Test Accuracy: %.3f' % nb_pipe.score(X_test, y_test))\n",
    "\n",
    "# Performing K fold Cross Validation to get an estimate of model performance on unknown data.\n",
    "print('Naive Bayes Mean score: {}'.format(cross_val_score(estimator=nb_pipe, \n",
    "                                                                  X=X_test, y= y_test,\n",
    "                                                                  cv=10, n_jobs = -1).mean()))"
   ]
  },
  {
   "cell_type": "code",
   "execution_count": 170,
   "metadata": {},
   "outputs": [
    {
     "name": "stdout",
     "output_type": "stream",
     "text": [
      "Test Accuracy: 0.624\n",
      "Decision tree Mean score: 0.7166666666666666\n"
     ]
    }
   ],
   "source": [
    "# Splitting data into training and testing sets\n",
    "X_train, X_test, y_train, y_test = train_test_split(x, y, test_size = 0.3, random_state = 2)\n",
    "\n",
    "# Logistic Regression Pipeline\n",
    "\n",
    "dt_pipe = Pipeline([('scl', StandardScaler()),\n",
    "                    ('pca', PCA(n_components=5)),\n",
    "                    ('clf',DecisionTreeClassifier())])\n",
    "\n",
    "dt_pipe.fit(X_train, y_train)\n",
    "\n",
    "print('Test Accuracy: %.3f' % dt_pipe.score(X_test, y_test))\n",
    "\n",
    "# Performing K fold Cross Validation to get an estimate of model performance on unknown data.\n",
    "print('Decision tree Mean score: {}'.format(cross_val_score(estimator=dt_pipe, \n",
    "                                                                  X=X_test, y= y_test,\n",
    "                                                                  cv=10, n_jobs = -1).mean()))"
   ]
  },
  {
   "cell_type": "code",
   "execution_count": 172,
   "metadata": {},
   "outputs": [
    {
     "name": "stdout",
     "output_type": "stream",
     "text": [
      "Test Accuracy: 0.679\n",
      "SVM Mean score: 0.6943076923076922\n"
     ]
    }
   ],
   "source": [
    "# Splitting data into training and testing sets\n",
    "X_train, X_test, y_train, y_test = train_test_split(x, y, test_size = 0.25, random_state = 2)\n",
    "\n",
    "# Logistic Regression Pipeline\n",
    "\n",
    "svm_pipe = Pipeline([('scl', StandardScaler()),\n",
    "                    ('pca', PCA(n_components=5)),\n",
    "                    ('clf',SVC(kernel = 'rbf'))])\n",
    "\n",
    "svm_pipe.fit(X_train, y_train)\n",
    "\n",
    "print('Test Accuracy: %.3f' % svm_pipe.score(X_test, y_test))\n",
    "\n",
    "# Performing K fold Cross Validation to get an estimate of model performance on unknown data.\n",
    "print('SVM Mean score: {}'.format(cross_val_score(estimator=svm_pipe, \n",
    "                                                                  X=X_test, y= y_test,\n",
    "                                                                  cv=10, n_jobs = -1).mean()))"
   ]
  },
  {
   "cell_type": "code",
   "execution_count": 176,
   "metadata": {},
   "outputs": [
    {
     "name": "stdout",
     "output_type": "stream",
     "text": [
      "Test Accuracy: 0.673\n",
      "KNN score: 0.7195698924731182\n"
     ]
    }
   ],
   "source": [
    "# Splitting data into training and testing sets\n",
    "X_train, X_test, y_train, y_test = train_test_split(x, y, test_size = 0.3, random_state = 3)\n",
    "\n",
    "# Logistic Regression Pipeline\n",
    "\n",
    "knn_pipe = Pipeline([('scl', StandardScaler()),\n",
    "                    ('pca', PCA(n_components=5)),\n",
    "                    ('clf',KNeighborsClassifier(n_neighbors=15))])\n",
    "\n",
    "knn_pipe.fit(X_train, y_train)\n",
    "\n",
    "print('Test Accuracy: %.3f' % knn_pipe.score(X_test, y_test))\n",
    "\n",
    "# Performing K fold Cross Validation to get an estimate of model performance on unknown data.\n",
    "print('KNN score: {}'.format(cross_val_score(estimator=knn_pipe, \n",
    "                                                                  X=X_test, y= y_test,\n",
    "                                                                  cv=10, n_jobs = -1).mean()))"
   ]
  },
  {
   "cell_type": "code",
   "execution_count": 175,
   "metadata": {},
   "outputs": [
    {
     "name": "stdout",
     "output_type": "stream",
     "text": [
      "Test Accuracy: 0.693\n",
      "Random Forest score: 0.7330107526881721\n"
     ]
    }
   ],
   "source": [
    "# Splitting data into training and testing sets\n",
    "X_train, X_test, y_train, y_test = train_test_split(x, y, test_size = 0.3, random_state = 2)\n",
    "\n",
    "# Logistic Regression Pipeline\n",
    "\n",
    "rf_pipe = Pipeline([('scl', StandardScaler()),\n",
    "                    ('pca', PCA(n_components=5)),\n",
    "                    ('clf',RandomForestClassifier(n_estimators = 10))])\n",
    "\n",
    "rf_pipe.fit(X_train, y_train)\n",
    "\n",
    "print('Test Accuracy: %.3f' % rf_pipe.score(X_test, y_test))\n",
    "\n",
    "# Performing K fold Cross Validation to get an estimate of model performance on unknown data.\n",
    "print('Random Forest score: {}'.format(cross_val_score(estimator=rf_pipe, \n",
    "                                                                  X=X_test, y= y_test,\n",
    "                                                                  cv=10, n_jobs = -1).mean()))"
   ]
  },
  {
   "cell_type": "code",
   "execution_count": null,
   "metadata": {},
   "outputs": [],
   "source": []
  }
 ],
 "metadata": {
  "kernelspec": {
   "display_name": "Python 3",
   "language": "python",
   "name": "python3"
  },
  "language_info": {
   "codemirror_mode": {
    "name": "ipython",
    "version": 3
   },
   "file_extension": ".py",
   "mimetype": "text/x-python",
   "name": "python",
   "nbconvert_exporter": "python",
   "pygments_lexer": "ipython3",
   "version": "3.8.8"
  }
 },
 "nbformat": 4,
 "nbformat_minor": 4
}
